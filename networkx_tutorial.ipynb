{
  "cells": [
    {
      "cell_type": "markdown",
      "metadata": {
        "id": "view-in-github",
        "colab_type": "text"
      },
      "source": [
        "<a href=\"https://colab.research.google.com/github/bhardwajshivam/Networkx-tutorial/blob/main/networkx_tutorial.ipynb\" target=\"_parent\"><img src=\"https://colab.research.google.com/assets/colab-badge.svg\" alt=\"Open In Colab\"/></a>"
      ]
    },
    {
      "cell_type": "markdown",
      "id": "a8f093a4",
      "metadata": {
        "id": "a8f093a4"
      },
      "source": [
        "## Tutorial\n",
        "\n",
        "This guide can help you start working with NetworkX.\n",
        "\n",
        "\n",
        "NetworkX is a Python package for the creation, manipulation, and study of the structure, dynamics, and functions of complex networks.\n",
        "NetworkX supports:\n",
        "\n",
        "- Data structures for graphs, digraphs, and multigraphs\n",
        "- Many standard graph algorithms\n",
        "- Network structure and analysis measures\n",
        "- Generators for classic graphs, random graphs, and synthetic networks\n",
        "- Nodes can be \"anything\" (e.g., text, images, XML records)\n",
        "- Edges can hold arbitrary data (e.g., weights, time-series)\n",
        "- networkX is open source\n",
        "\n",
        "### Creating a graph\n",
        "\n",
        "Create an empty graph with no nodes and no edges."
      ]
    },
    {
      "cell_type": "code",
      "execution_count": 1,
      "id": "e8c0d896",
      "metadata": {
        "colab": {
          "base_uri": "https://localhost:8080/"
        },
        "id": "e8c0d896",
        "outputId": "644a52e1-a952-4d50-c3dd-a1d50464d088"
      },
      "outputs": [
        {
          "output_type": "stream",
          "name": "stdout",
          "text": [
            "Requirement already satisfied: networkx in /usr/local/lib/python3.10/dist-packages (3.2.1)\n"
          ]
        }
      ],
      "source": [
        "!pip install networkx"
      ]
    },
    {
      "cell_type": "code",
      "execution_count": 2,
      "id": "9e13f1b2",
      "metadata": {
        "id": "9e13f1b2"
      },
      "outputs": [],
      "source": [
        "import networkx as nx\n",
        "G = nx.Graph()"
      ]
    },
    {
      "cell_type": "code",
      "execution_count": 3,
      "id": "7b54d619",
      "metadata": {
        "colab": {
          "base_uri": "https://localhost:8080/"
        },
        "id": "7b54d619",
        "outputId": "95848122-e4f7-4f95-d877-6c56d4e41240"
      },
      "outputs": [
        {
          "output_type": "stream",
          "name": "stdout",
          "text": [
            "3.2.1\n"
          ]
        }
      ],
      "source": [
        "print(nx.__version__)"
      ]
    },
    {
      "cell_type": "markdown",
      "id": "71d41728",
      "metadata": {
        "id": "71d41728"
      },
      "source": [
        "By definition, a `Graph` is a collection of nodes (vertices) along with\n",
        "identified pairs of nodes (called edges, links, etc).  In NetworkX, nodes can\n",
        "be any [hashable](https://docs.python.org/3/glossary.html#term-hashable) object e.g., a text string, an image, an XML object,\n",
        "another Graph, a customized node object, etc.\n",
        "\n",
        "# Nodes\n",
        "\n",
        "The graph `G` can be grown in several ways.  NetworkX includes many graph\n",
        "generator functions and facilities to read and write graphs in many formats.\n",
        "To get started though we’ll look at simple manipulations.  You can add one node\n",
        "at a time,"
      ]
    },
    {
      "cell_type": "code",
      "execution_count": 4,
      "id": "ac3e5021",
      "metadata": {
        "id": "ac3e5021"
      },
      "outputs": [],
      "source": [
        "G.add_node(1)"
      ]
    },
    {
      "cell_type": "markdown",
      "id": "ccab6db2",
      "metadata": {
        "id": "ccab6db2"
      },
      "source": [
        "or add nodes from any [iterable](https://docs.python.org/3/glossary.html#term-iterable) container, such as a list"
      ]
    },
    {
      "cell_type": "code",
      "execution_count": 5,
      "id": "34d1aec9",
      "metadata": {
        "id": "34d1aec9"
      },
      "outputs": [],
      "source": [
        "G.add_nodes_from([2, 3])"
      ]
    },
    {
      "cell_type": "markdown",
      "id": "ebe1aba5",
      "metadata": {
        "id": "ebe1aba5"
      },
      "source": [
        "You can also add nodes along with node\n",
        "attributes if your container yields 2-tuples of the form\n",
        "`(node, node_attribute_dict)`:\n",
        "\n",
        "```\n",
        ">>> G.add_nodes_from([\n",
        "...     (4, {\"color\": \"red\"}),\n",
        "...     (5, {\"color\": \"green\"}),\n",
        "... ])\n",
        "```\n",
        "\n",
        "Node attributes are discussed further below.\n",
        "\n",
        "Nodes from one graph can be incorporated into another:"
      ]
    },
    {
      "cell_type": "code",
      "execution_count": 6,
      "id": "a5cb1a04",
      "metadata": {
        "id": "a5cb1a04"
      },
      "outputs": [],
      "source": [
        "H = nx.path_graph(10)\n",
        "G.add_nodes_from(H)"
      ]
    },
    {
      "cell_type": "markdown",
      "id": "ff8ba8a9",
      "metadata": {
        "id": "ff8ba8a9"
      },
      "source": [
        "`G` now contains the nodes of `H` as nodes of `G`.\n",
        "In contrast, you could use the graph `H` as a node in `G`."
      ]
    },
    {
      "cell_type": "code",
      "execution_count": 7,
      "id": "9e261854",
      "metadata": {
        "id": "9e261854"
      },
      "outputs": [],
      "source": [
        "G.add_node(H)"
      ]
    },
    {
      "cell_type": "markdown",
      "id": "603d4143",
      "metadata": {
        "id": "603d4143"
      },
      "source": [
        "The graph `G` now contains `H` as a node.  This flexibility is very powerful as\n",
        "it allows graphs of graphs, graphs of files, graphs of functions and much more.\n",
        "It is worth thinking about how to structure your application so that the nodes\n",
        "are useful entities.  Of course you can always use a unique identifier in `G`\n",
        "and have a separate dictionary keyed by identifier to the node information if\n",
        "you prefer.\n",
        "\n",
        "# Edges\n",
        "\n",
        "`G` can also be grown by adding one edge at a time,"
      ]
    },
    {
      "cell_type": "code",
      "execution_count": 8,
      "id": "7bc8c713",
      "metadata": {
        "id": "7bc8c713"
      },
      "outputs": [],
      "source": [
        "G.add_edge(1, 2)\n",
        "e = (2, 3)\n",
        "G.add_edge(*e)  # unpack edge tuple*"
      ]
    },
    {
      "cell_type": "markdown",
      "id": "a9906183",
      "metadata": {
        "id": "a9906183"
      },
      "source": [
        "by adding a list of edges,"
      ]
    },
    {
      "cell_type": "code",
      "execution_count": 9,
      "id": "6bcab65d",
      "metadata": {
        "id": "6bcab65d"
      },
      "outputs": [],
      "source": [
        "G.add_edges_from([(1, 2), (1, 3)])"
      ]
    },
    {
      "cell_type": "markdown",
      "id": "6f3a02c7",
      "metadata": {
        "id": "6f3a02c7"
      },
      "source": [
        "or by adding any ebunch of edges.  An *ebunch* is any iterable\n",
        "container of edge-tuples.  An edge-tuple can be a 2-tuple of nodes or a 3-tuple\n",
        "with 2 nodes followed by an edge attribute dictionary, e.g.,\n",
        "`(2, 3, {'weight': 3.1415})`.  Edge attributes are discussed further\n",
        "below."
      ]
    },
    {
      "cell_type": "code",
      "execution_count": 10,
      "id": "46ba6249",
      "metadata": {
        "id": "46ba6249"
      },
      "outputs": [],
      "source": [
        "G.add_edges_from(H.edges)"
      ]
    },
    {
      "cell_type": "markdown",
      "id": "f267f777",
      "metadata": {
        "id": "f267f777"
      },
      "source": [
        "There are no complaints when adding existing nodes or edges. For example,\n",
        "after removing all nodes and edges,"
      ]
    },
    {
      "cell_type": "code",
      "execution_count": 11,
      "id": "f0a39c70",
      "metadata": {
        "id": "f0a39c70"
      },
      "outputs": [],
      "source": [
        "G.clear()"
      ]
    },
    {
      "cell_type": "markdown",
      "id": "6f28aa75",
      "metadata": {
        "id": "6f28aa75"
      },
      "source": [
        "we add new nodes/edges and NetworkX quietly ignores any that are\n",
        "already present."
      ]
    },
    {
      "cell_type": "code",
      "execution_count": 12,
      "id": "ae95a7a3",
      "metadata": {
        "id": "ae95a7a3"
      },
      "outputs": [],
      "source": [
        "G.add_edges_from([(1, 2), (1, 3)])\n",
        "G.add_node(1)\n",
        "G.add_edge(1, 2)\n",
        "G.add_node(\"spam\")        # adds node \"spam\"\n",
        "G.add_nodes_from(\"spam\")  # adds 4 nodes: 's', 'p', 'a', 'm'\n",
        "G.add_edge(3, 'm')"
      ]
    },
    {
      "cell_type": "markdown",
      "id": "c0345dfe",
      "metadata": {
        "id": "c0345dfe"
      },
      "source": [
        "At this stage the graph `G` consists of 8 nodes and 3 edges, as can be seen by:"
      ]
    },
    {
      "cell_type": "code",
      "execution_count": 13,
      "id": "9565cf0d",
      "metadata": {
        "colab": {
          "base_uri": "https://localhost:8080/"
        },
        "id": "9565cf0d",
        "outputId": "f6924487-c390-44d3-e3ac-d57fa628671a"
      },
      "outputs": [
        {
          "output_type": "stream",
          "name": "stdout",
          "text": [
            "8\n",
            "3\n"
          ]
        }
      ],
      "source": [
        "print(G.number_of_nodes())\n",
        "print(G.number_of_edges())"
      ]
    },
    {
      "cell_type": "code",
      "execution_count": 14,
      "id": "67a2b7b8",
      "metadata": {
        "id": "67a2b7b8"
      },
      "outputs": [],
      "source": [
        "DG = nx.DiGraph()\n",
        "DG.add_edge(2, 1)   # adds the nodes in order 2, 1\n",
        "DG.add_edge(1, 3)\n",
        "DG.add_edge(2, 4)\n",
        "DG.add_edge(1, 2)\n",
        "assert list(DG.successors(2)) == [1, 4]\n",
        "assert list(DG.edges) == [(2, 1), (2, 4), (1, 3), (1, 2)]"
      ]
    },
    {
      "cell_type": "markdown",
      "id": "6e8b7eee",
      "metadata": {
        "id": "6e8b7eee"
      },
      "source": [
        "# Examining elements of a graph\n",
        "\n",
        "We can examine the nodes and edges. Four basic graph properties facilitate\n",
        "reporting: `G.nodes`, `G.edges`, `G.adj` and `G.degree`.  These\n",
        "are set-like views of the nodes, edges, neighbors (adjacencies), and degrees\n",
        "of nodes in a graph. They offer a continually updated read-only view into\n",
        "the graph structure. They are also dict-like in that you can look up node\n",
        "and edge data attributes via the views and iterate with data attributes\n",
        "using methods `.items()`, `.data('span')`.\n",
        "If you want a specific container type instead of a view, you can specify one.\n",
        "Here we use lists, though sets, dicts, tuples and other containers may be\n",
        "better in other contexts."
      ]
    },
    {
      "cell_type": "code",
      "execution_count": 15,
      "id": "53d934b9",
      "metadata": {
        "colab": {
          "base_uri": "https://localhost:8080/"
        },
        "id": "53d934b9",
        "outputId": "e5fc1497-e1ed-4bc5-b643-627f248428a6"
      },
      "outputs": [
        {
          "output_type": "stream",
          "name": "stdout",
          "text": [
            "[1, 2, 3, 'spam', 's', 'p', 'a', 'm']\n",
            "[(1, 2), (1, 3), (3, 'm')]\n",
            "[2, 3]\n",
            "[(2, 1), (2, 4), (1, 3), (1, 2)]\n",
            "2\n"
          ]
        },
        {
          "output_type": "execute_result",
          "data": {
            "text/plain": [
              "3"
            ]
          },
          "metadata": {},
          "execution_count": 15
        }
      ],
      "source": [
        "print(list(G.nodes))\n",
        "print(list(G.edges))\n",
        "print(list(G.adj[1]))  # or list(G.neighbors(1))\n",
        "print(list(DG.edges))\n",
        "print(G.degree[1])  # the number of edges incident to 1\n",
        "DG.degree[1]"
      ]
    },
    {
      "cell_type": "markdown",
      "id": "b7987a3a",
      "metadata": {
        "id": "b7987a3a"
      },
      "source": [
        "One can specify to report the edges and degree from a subset of all nodes\n",
        "using an nbunch. An *nbunch* is any of: `None` (meaning all nodes),\n",
        "a node, or an iterable container of nodes that is not itself a node in the\n",
        "graph."
      ]
    },
    {
      "cell_type": "code",
      "execution_count": 16,
      "id": "8bd38a8b",
      "metadata": {
        "colab": {
          "base_uri": "https://localhost:8080/"
        },
        "id": "8bd38a8b",
        "outputId": "607f30ed-cf74-4f6b-8efb-004f13d15b75"
      },
      "outputs": [
        {
          "output_type": "stream",
          "name": "stdout",
          "text": [
            "[(2, 1), ('m', 3)]\n",
            "[(2, 1), (3, 2)]\n"
          ]
        }
      ],
      "source": [
        "print(G.edges([2, 'm']))\n",
        "print(G.degree([2, 3]))"
      ]
    },
    {
      "cell_type": "markdown",
      "id": "498b407c",
      "metadata": {
        "id": "498b407c"
      },
      "source": [
        "# Removing elements from a graph\n",
        "\n",
        "One can remove nodes and edges from the graph in a similar fashion to adding.\n",
        "Use methods\n",
        "`Graph.remove_node()`,\n",
        "`Graph.remove_nodes_from()`,\n",
        "`Graph.remove_edge()`\n",
        "and\n",
        "`Graph.remove_edges_from()`, e.g."
      ]
    },
    {
      "cell_type": "code",
      "execution_count": 17,
      "id": "07a35fc9",
      "metadata": {
        "colab": {
          "base_uri": "https://localhost:8080/"
        },
        "id": "07a35fc9",
        "outputId": "748b702f-033f-41c0-f336-93a34426b1cb"
      },
      "outputs": [
        {
          "output_type": "stream",
          "name": "stdout",
          "text": [
            "[1, 3, 'spam', 's', 'p', 'a', 'm']\n",
            "[1, 3, 'spam']\n",
            "[(1, 3)]\n",
            "[]\n"
          ]
        }
      ],
      "source": [
        "G.remove_node(2)\n",
        "print(list(G.nodes))\n",
        "G.remove_nodes_from(\"spam\")\n",
        "print(list(G.nodes))\n",
        "print(list(G.edges))\n",
        "G.remove_edge(1, 3)\n",
        "print(list(G.edges))"
      ]
    },
    {
      "cell_type": "markdown",
      "id": "df8261e4",
      "metadata": {
        "id": "df8261e4"
      },
      "source": [
        "# Using the graph constructors\n",
        "\n",
        "Graph objects do not have to be built up incrementally - data specifying\n",
        "graph structure can be passed directly to the constructors of the various\n",
        "graph classes.\n",
        "When creating a graph structure by instantiating one of the graph\n",
        "classes you can specify data in several formats."
      ]
    },
    {
      "cell_type": "code",
      "execution_count": 18,
      "id": "948deb8d",
      "metadata": {
        "colab": {
          "base_uri": "https://localhost:8080/"
        },
        "id": "948deb8d",
        "outputId": "1a88d57e-e276-4e39-a3fc-788bfa8f9312"
      },
      "outputs": [
        {
          "output_type": "stream",
          "name": "stdout",
          "text": [
            "[(1, 2), (2, 1)]\n",
            "[(0, 1), (1, 2), (2, 3)]\n"
          ]
        }
      ],
      "source": [
        "G.clear()\n",
        "G.add_edge(1, 2)\n",
        "H = nx.DiGraph(G)   # create a DiGraph using the connections from G\n",
        "print(list(H.edges()))\n",
        "edgelist = [(0, 1), (1, 2), (2, 3)]\n",
        "H = nx.Graph(edgelist)\n",
        "print(list(H.edges()))"
      ]
    },
    {
      "cell_type": "markdown",
      "id": "18e89700",
      "metadata": {
        "id": "18e89700"
      },
      "source": [
        "# What to use as nodes and edges\n",
        "\n",
        "You might notice that nodes and edges are not specified as NetworkX\n",
        "objects.  This leaves you free to use meaningful items as nodes and\n",
        "edges. The most common choices are numbers or strings, but a node can\n",
        "be any hashable object (except `None`), and an edge can be associated\n",
        "with any object `x` using `G.add_edge(n1, n2, object=x)`.\n",
        "\n",
        "As an example, `n1` and `n2` could be protein objects from the RCSB Protein\n",
        "Data Bank, and `x` could refer to an XML record of publications detailing\n",
        "experimental observations of their interaction.\n",
        "\n",
        "We have found this power quite useful, but its abuse\n",
        "can lead to surprising behavior unless one is familiar with Python.\n",
        "If in doubt, consider using `convert_node_labels_to_integers()` to obtain\n",
        "a more traditional graph with integer labels.\n",
        "\n",
        "# Accessing edges and neighbors\n",
        "\n",
        "In addition to the views `Graph.edges`, and `Graph.adj`,\n",
        "access to edges and neighbors is possible using subscript notation."
      ]
    },
    {
      "cell_type": "code",
      "execution_count": 19,
      "id": "bed4eb39",
      "metadata": {
        "colab": {
          "base_uri": "https://localhost:8080/"
        },
        "id": "bed4eb39",
        "outputId": "5d95f34a-7769-4480-d5c8-5708ba45c953"
      },
      "outputs": [
        {
          "output_type": "stream",
          "name": "stdout",
          "text": [
            "{2: {'color': 'yellow'}}\n",
            "{'color': 'yellow'}\n",
            "{'color': 'yellow'}\n"
          ]
        }
      ],
      "source": [
        "G = nx.Graph([(1, 2, {\"color\": \"yellow\"})])\n",
        "print(G[1])  # same as G.adj[1]\n",
        "print(G[1][2])\n",
        "print(G.edges[1, 2])"
      ]
    },
    {
      "cell_type": "markdown",
      "id": "d9278457",
      "metadata": {
        "id": "d9278457"
      },
      "source": [
        "You can get/set the attributes of an edge using subscript notation\n",
        "if the edge already exists."
      ]
    },
    {
      "cell_type": "code",
      "execution_count": 20,
      "id": "49645943",
      "metadata": {
        "colab": {
          "base_uri": "https://localhost:8080/"
        },
        "id": "49645943",
        "outputId": "ef890ca4-b848-4301-ef58-93e35beea606"
      },
      "outputs": [
        {
          "output_type": "stream",
          "name": "stdout",
          "text": [
            "{2: {'color': 'yellow'}, 3: {'color': 'blue'}}\n",
            "{'color': 'red'}\n"
          ]
        }
      ],
      "source": [
        "G.add_edge(1, 3)\n",
        "G[1][3]['color'] = \"blue\"\n",
        "print(G[1])\n",
        "G.edges[1, 2]['color'] = \"red\"\n",
        "print(G.edges[1, 2])"
      ]
    },
    {
      "cell_type": "markdown",
      "id": "665be316",
      "metadata": {
        "id": "665be316"
      },
      "source": [
        "Fast examination of all (node, adjacency) pairs is achieved using\n",
        "`G.adjacency()`, or `G.adj.items()`.\n",
        "Note that for undirected graphs, adjacency iteration sees each edge twice."
      ]
    },
    {
      "cell_type": "code",
      "execution_count": 21,
      "id": "37a1044e",
      "metadata": {
        "colab": {
          "base_uri": "https://localhost:8080/"
        },
        "id": "37a1044e",
        "outputId": "271a6fb9-5283-40c4-ce8a-947f3d034339"
      },
      "outputs": [
        {
          "output_type": "stream",
          "name": "stdout",
          "text": [
            "(1, 2, 0.125)\n",
            "(2, 1, 0.125)\n",
            "(3, 4, 0.375)\n",
            "(4, 3, 0.375)\n"
          ]
        }
      ],
      "source": [
        "FG = nx.Graph()\n",
        "FG.add_weighted_edges_from([(1, 2, 0.125), (1, 3, 0.75), (2, 4, 1.2), (3, 4, 0.375)])\n",
        "for n, nbrs in FG.adj.items():\n",
        "   for nbr, eattr in nbrs.items():\n",
        "       wt = eattr['weight']\n",
        "       if wt < 0.5: print(f\"({n}, {nbr}, {wt:.3})\")"
      ]
    },
    {
      "cell_type": "markdown",
      "id": "2ec9af35",
      "metadata": {
        "id": "2ec9af35"
      },
      "source": [
        "Convenient access to all edges is achieved with the edges property."
      ]
    },
    {
      "cell_type": "code",
      "execution_count": 22,
      "id": "6e5a6afb",
      "metadata": {
        "colab": {
          "base_uri": "https://localhost:8080/"
        },
        "id": "6e5a6afb",
        "outputId": "0238f8d8-f413-4a4a-fa50-0fb5075bbe0b"
      },
      "outputs": [
        {
          "output_type": "stream",
          "name": "stdout",
          "text": [
            "(1, 2, 0.125)\n",
            "(3, 4, 0.375)\n"
          ]
        }
      ],
      "source": [
        "for (u, v, wt) in FG.edges.data('weight'):\n",
        "    if wt < 0.5:\n",
        "        print(f\"({u}, {v}, {wt:.3})\")"
      ]
    },
    {
      "cell_type": "markdown",
      "id": "8652372f",
      "metadata": {
        "id": "8652372f"
      },
      "source": [
        "# Adding attributes to graphs, nodes, and edges\n",
        "\n",
        "Attributes such as weights, labels, colors, or whatever Python object you like,\n",
        "can be attached to graphs, nodes, or edges.\n",
        "\n",
        "Each graph, node, and edge can hold key/value attribute pairs in an associated\n",
        "attribute dictionary (the keys must be hashable).  By default these are empty,\n",
        "but attributes can be added or changed using `add_edge`, `add_node` or direct\n",
        "manipulation of the attribute dictionaries named `G.graph`, `G.nodes`, and\n",
        "`G.edges` for a graph `G`.\n",
        "\n",
        "## Graph attributes\n",
        "\n",
        "Assign graph attributes when creating a new graph"
      ]
    },
    {
      "cell_type": "code",
      "execution_count": 23,
      "id": "0ac3f5c8",
      "metadata": {
        "colab": {
          "base_uri": "https://localhost:8080/"
        },
        "id": "0ac3f5c8",
        "outputId": "52a1071c-7bc9-4053-ae14-b78075afb60c"
      },
      "outputs": [
        {
          "output_type": "execute_result",
          "data": {
            "text/plain": [
              "{'day': 'Friday'}"
            ]
          },
          "metadata": {},
          "execution_count": 23
        }
      ],
      "source": [
        "G = nx.Graph(day=\"Friday\")\n",
        "G.graph"
      ]
    },
    {
      "cell_type": "markdown",
      "id": "589f52ea",
      "metadata": {
        "id": "589f52ea"
      },
      "source": [
        "Or you can modify attributes later"
      ]
    },
    {
      "cell_type": "code",
      "execution_count": 24,
      "id": "43c656cd",
      "metadata": {
        "colab": {
          "base_uri": "https://localhost:8080/"
        },
        "id": "43c656cd",
        "outputId": "df3eddf9-42bd-4a8f-e52b-f1601e36d8dc"
      },
      "outputs": [
        {
          "output_type": "execute_result",
          "data": {
            "text/plain": [
              "{'day': 'Monday'}"
            ]
          },
          "metadata": {},
          "execution_count": 24
        }
      ],
      "source": [
        "G.graph['day'] = \"Monday\"\n",
        "G.graph"
      ]
    },
    {
      "cell_type": "markdown",
      "id": "6390f2c3",
      "metadata": {
        "id": "6390f2c3"
      },
      "source": [
        "# Node attributes\n",
        "\n",
        "Add node attributes using `add_node()`, `add_nodes_from()`, or `G.nodes`"
      ]
    },
    {
      "cell_type": "code",
      "execution_count": 25,
      "id": "0ee65697",
      "metadata": {
        "colab": {
          "base_uri": "https://localhost:8080/"
        },
        "id": "0ee65697",
        "outputId": "f4b741d9-0826-4634-902b-a3e20959dd0c"
      },
      "outputs": [
        {
          "output_type": "execute_result",
          "data": {
            "text/plain": [
              "NodeDataView({1: {'time': '5pm', 'room': 714}, 3: {'time': '2pm'}})"
            ]
          },
          "metadata": {},
          "execution_count": 25
        }
      ],
      "source": [
        "G.add_node(1, time='5pm')\n",
        "G.add_nodes_from([3], time='2pm')\n",
        "G.nodes[1]\n",
        "G.nodes[1]['room'] = 714\n",
        "G.nodes.data()"
      ]
    },
    {
      "cell_type": "markdown",
      "id": "aae8b81e",
      "metadata": {
        "id": "aae8b81e"
      },
      "source": [
        "Note that adding a node to `G.nodes` does not add it to the graph, use\n",
        "`G.add_node()` to add new nodes. Similarly for edges.\n",
        "\n",
        "# Edge Attributes\n",
        "\n",
        "Add/change edge attributes using `add_edge()`, `add_edges_from()`,\n",
        "or subscript notation."
      ]
    },
    {
      "cell_type": "code",
      "execution_count": 26,
      "id": "479a0322",
      "metadata": {
        "id": "479a0322"
      },
      "outputs": [],
      "source": [
        "G.add_edge(1, 2, weight=4.7 )\n",
        "G.add_edges_from([(3, 4), (4, 5)], color='red')\n",
        "G.add_edges_from([(1, 2, {'color': 'blue'}), (2, 3, {'weight': 8})])\n",
        "G[1][2]['weight'] = 4.7\n",
        "G.edges[3, 4]['weight'] = 4.2"
      ]
    },
    {
      "cell_type": "markdown",
      "id": "50ea6422",
      "metadata": {
        "id": "50ea6422"
      },
      "source": [
        "The special attribute `weight` should be numeric as it is used by\n",
        "algorithms requiring weighted edges.\n",
        "\n",
        " Directed graphs\n",
        "\n",
        "The `DiGraph` class provides additional methods and properties specific\n",
        "to directed edges, e.g.,\n",
        "`DiGraph.out_edges`, `DiGraph.in_degree`,\n",
        "`DiGraph.predecessors()`, `DiGraph.successors()` etc.\n",
        "To allow algorithms to work with both classes easily, the directed versions of\n",
        "`neighbors()` is equivalent to `successors()` while `degree` reports\n",
        "the sum of `in_degree` and `out_degree` even though that may feel\n",
        "inconsistent at times."
      ]
    },
    {
      "cell_type": "code",
      "execution_count": 27,
      "id": "8de86e7d",
      "metadata": {
        "colab": {
          "base_uri": "https://localhost:8080/"
        },
        "id": "8de86e7d",
        "outputId": "f7053d6e-361b-46d7-a7d1-6e9839f13a4b"
      },
      "outputs": [
        {
          "output_type": "stream",
          "name": "stdout",
          "text": [
            "[2]\n",
            "[2]\n"
          ]
        }
      ],
      "source": [
        "DG = nx.DiGraph()\n",
        "DG.add_weighted_edges_from([(1, 2, 0.5), (3, 1, 0.75)])\n",
        "DG.out_degree(1, weight='weight')\n",
        "DG.degree(1, weight='weight')\n",
        "print(list(DG.successors(1)))\n",
        "print(list(DG.neighbors(1)))"
      ]
    },
    {
      "cell_type": "markdown",
      "id": "0e4ddb9f",
      "metadata": {
        "id": "0e4ddb9f"
      },
      "source": [
        "Some algorithms work only for directed graphs and others are not well\n",
        "defined for directed graphs.  Indeed the tendency to lump directed\n",
        "and undirected graphs together is dangerous.  If you want to treat\n",
        "a directed graph as undirected for some measurement you should probably\n",
        "convert it using `Graph.to_undirected()` or with"
      ]
    },
    {
      "cell_type": "code",
      "execution_count": 28,
      "id": "29d0c301",
      "metadata": {
        "id": "29d0c301"
      },
      "outputs": [],
      "source": [
        "H = nx.Graph(DG)  # create an undirected graph H from a directed graph G"
      ]
    },
    {
      "cell_type": "markdown",
      "id": "5be96010",
      "metadata": {
        "id": "5be96010"
      },
      "source": [
        "# Multigraphs\n",
        "\n",
        "NetworkX provides classes for graphs which allow multiple edges\n",
        "between any pair of nodes.  The `MultiGraph` and\n",
        "`MultiDiGraph`\n",
        "classes allow you to add the same edge twice, possibly with different\n",
        "edge data.  This can be powerful for some applications, but many\n",
        "algorithms are not well defined on such graphs.\n",
        "Where results are well defined,\n",
        "e.g., `MultiGraph.degree()` we provide the function.  Otherwise you\n",
        "should convert to a standard graph in a way that makes the measurement\n",
        "well defined."
      ]
    },
    {
      "cell_type": "code",
      "execution_count": 29,
      "id": "e94bee40",
      "metadata": {
        "colab": {
          "base_uri": "https://localhost:8080/"
        },
        "id": "e94bee40",
        "outputId": "8d13e77d-1594-4a46-aff0-287e92a7f79b"
      },
      "outputs": [
        {
          "output_type": "execute_result",
          "data": {
            "text/plain": [
              "[1, 2, 3]"
            ]
          },
          "metadata": {},
          "execution_count": 29
        }
      ],
      "source": [
        "MG = nx.MultiGraph()\n",
        "MG.add_weighted_edges_from([(1, 2, 0.5), (1, 2, 0.75), (2, 3, 0.5)])\n",
        "dict(MG.degree(weight='weight'))\n",
        "GG = nx.Graph()\n",
        "for n, nbrs in MG.adjacency():\n",
        "   for nbr, edict in nbrs.items():\n",
        "       minvalue = min([d['weight'] for d in edict.values()])\n",
        "       GG.add_edge(n, nbr, weight = minvalue)\n",
        "\n",
        "nx.shortest_path(GG, 1, 3)"
      ]
    },
    {
      "cell_type": "markdown",
      "id": "e6dec648",
      "metadata": {
        "id": "e6dec648"
      },
      "source": [
        "# Graph generators and graph operations\n",
        "\n",
        "In addition to constructing graphs node-by-node or edge-by-edge, they\n",
        "can also be generated by\n",
        "\n",
        "Applying classic graph operations, such as:\n",
        "<ol>\n",
        "<li>Using a call to one of the classic small graphs, e.g.,\n",
        "\n",
        "<li>Using a (constructive) generator for a classic graph, e.g.,\n",
        "</ol>\n",
        "\n",
        "like so:"
      ]
    },
    {
      "cell_type": "code",
      "execution_count": 30,
      "id": "f1f4b2b0",
      "metadata": {
        "id": "f1f4b2b0"
      },
      "outputs": [],
      "source": [
        "K_5 = nx.complete_graph(5)\n",
        "K_3_5 = nx.complete_bipartite_graph(3, 5)\n",
        "barbell = nx.barbell_graph(10, 10)\n",
        "lollipop = nx.lollipop_graph(10, 20)"
      ]
    },
    {
      "cell_type": "markdown",
      "id": "0bf30fd6",
      "metadata": {
        "id": "0bf30fd6"
      },
      "source": [
        "1. Using a stochastic graph generator, e.g,\n",
        "\n",
        "like so:"
      ]
    },
    {
      "cell_type": "code",
      "execution_count": 31,
      "id": "6cd12541",
      "metadata": {
        "id": "6cd12541"
      },
      "outputs": [],
      "source": [
        "er = nx.erdos_renyi_graph(100, 0.15)\n",
        "ws = nx.watts_strogatz_graph(30, 3, 0.1)\n",
        "ba = nx.barabasi_albert_graph(100, 5)\n",
        "red = nx.random_lobster(100, 0.9, 0.9)"
      ]
    },
    {
      "cell_type": "markdown",
      "id": "773a43e2",
      "metadata": {
        "id": "773a43e2"
      },
      "source": [
        "1. Reading a graph stored in a file using common graph formats,\n",
        "   such as edge lists, adjacency lists, GML, GraphML, pickle, LEDA and others."
      ]
    },
    {
      "cell_type": "code",
      "execution_count": 32,
      "id": "f87f25db",
      "metadata": {
        "id": "f87f25db"
      },
      "outputs": [],
      "source": [
        "nx.write_gml(red, \"path.to.file\")\n",
        "mygraph = nx.read_gml(\"path.to.file\")"
      ]
    },
    {
      "cell_type": "markdown",
      "id": "b64c3c84",
      "metadata": {
        "id": "b64c3c84"
      },
      "source": [
        "For details on graph formats see Reading and writing graphs\n",
        "and for graph generator functions see Graph generators\n",
        "\n",
        "# Analyzing graphs\n",
        "\n",
        "The structure of `G` can be analyzed using various graph-theoretic\n",
        "functions such as:"
      ]
    },
    {
      "cell_type": "code",
      "execution_count": 33,
      "id": "b4c09f11",
      "metadata": {
        "colab": {
          "base_uri": "https://localhost:8080/"
        },
        "id": "b4c09f11",
        "outputId": "9a40a92e-41ac-4101-e75d-77a240c11a7c"
      },
      "outputs": [
        {
          "output_type": "stream",
          "name": "stdout",
          "text": [
            "[{1, 2, 3}, {'spam'}]\n",
            "[0, 1, 1, 2]\n",
            "{1: 0, 2: 0, 3: 0, 'spam': 0}\n"
          ]
        }
      ],
      "source": [
        "G = nx.Graph()\n",
        "G.add_edges_from([(1, 2), (1, 3)])\n",
        "G.add_node(\"spam\")       # adds node \"spam\"\n",
        "print(list(nx.connected_components(G)))\n",
        "print(sorted(d for n, d in G.degree()))\n",
        "print(nx.clustering(G))"
      ]
    },
    {
      "cell_type": "markdown",
      "id": "fc97c720",
      "metadata": {
        "id": "fc97c720"
      },
      "source": [
        "Some functions with large output iterate over (node, value) 2-tuples.\n",
        "These are easily stored in a [dict](https://docs.python.org/3/library/stdtypes.html#dict) structure if you desire."
      ]
    },
    {
      "cell_type": "code",
      "execution_count": 34,
      "id": "13e42707",
      "metadata": {
        "colab": {
          "base_uri": "https://localhost:8080/"
        },
        "id": "13e42707",
        "outputId": "68199ba1-563b-4c22-f9b7-4bfcb3ce128a"
      },
      "outputs": [
        {
          "output_type": "execute_result",
          "data": {
            "text/plain": [
              "{3: [3], 1: [3, 1], 2: [3, 1, 2]}"
            ]
          },
          "metadata": {},
          "execution_count": 34
        }
      ],
      "source": [
        "sp = dict(nx.all_pairs_shortest_path(G))\n",
        "sp[3]"
      ]
    },
    {
      "cell_type": "markdown",
      "id": "f7b01b07",
      "metadata": {
        "id": "f7b01b07"
      },
      "source": [
        "See Algorithms for details on graph algorithms\n",
        "supported.\n",
        "\n",
        "# Drawing graphs\n",
        "\n",
        "NetworkX is not primarily a graph drawing package but basic drawing with\n",
        "Matplotlib as well as an interface to use the open source Graphviz software\n",
        "package are included.  These are part of the `networkx.drawing` module and will\n",
        "be imported if possible.\n",
        "\n",
        "First import Matplotlib’s plot interface (pylab works too)"
      ]
    },
    {
      "cell_type": "code",
      "execution_count": 35,
      "id": "a4a174e1",
      "metadata": {
        "id": "a4a174e1"
      },
      "outputs": [],
      "source": [
        "import matplotlib.pyplot as plt"
      ]
    },
    {
      "cell_type": "markdown",
      "id": "fba9b6f5",
      "metadata": {
        "id": "fba9b6f5"
      },
      "source": [
        "To test if the import of `networkx.drawing` was successful draw `G` using one of"
      ]
    },
    {
      "cell_type": "code",
      "execution_count": 36,
      "id": "65a52b55",
      "metadata": {
        "id": "65a52b55"
      },
      "outputs": [],
      "source": [
        "%matplotlib inline"
      ]
    },
    {
      "cell_type": "code",
      "execution_count": 37,
      "id": "db1ed000",
      "metadata": {
        "colab": {
          "base_uri": "https://localhost:8080/",
          "height": 406
        },
        "id": "db1ed000",
        "outputId": "f327c841-1da5-4fdc-8211-35ca5968678f"
      },
      "outputs": [
        {
          "output_type": "display_data",
          "data": {
            "text/plain": [
              "<Figure size 640x480 with 2 Axes>"
            ],
            "image/png": "[encoded data removed]"
          },
          "metadata": {}
        }
      ],
      "source": [
        "G = nx.petersen_graph()\n",
        "subax1 = plt.subplot(121)\n",
        "nx.draw(G, with_labels=True, font_weight='bold')\n",
        "subax2 = plt.subplot(122)\n",
        "nx.draw_shell(G, nlist=[range(5, 10), range(5)], with_labels=True, font_weight='bold')\n",
        "plt.show()"
      ]
    },
    {
      "cell_type": "markdown",
      "id": "23bb9872",
      "metadata": {
        "id": "23bb9872"
      },
      "source": [
        "when drawing to an interactive display.  Note that you may need to issue a\n",
        "Matplotlib"
      ]
    },
    {
      "cell_type": "code",
      "execution_count": 38,
      "id": "04a61842",
      "metadata": {
        "id": "04a61842"
      },
      "outputs": [],
      "source": [
        "plt.show()"
      ]
    },
    {
      "cell_type": "markdown",
      "id": "02180adf",
      "metadata": {
        "id": "02180adf"
      },
      "source": [
        "command if you are not using matplotlib in interactive mode (see\n",
        "[this Matplotlib FAQ](https://matplotlib.org/stable/faq/installing_faq.html))."
      ]
    },
    {
      "cell_type": "code",
      "execution_count": 39,
      "id": "537662cd",
      "metadata": {
        "colab": {
          "base_uri": "https://localhost:8080/",
          "height": 406
        },
        "id": "537662cd",
        "outputId": "4e103443-755f-43ed-dfac-220f8aa3bc3f"
      },
      "outputs": [
        {
          "output_type": "display_data",
          "data": {
            "text/plain": [
              "<Figure size 640x480 with 4 Axes>"
            ],
            "image/png": "[encoded data removed]"
          },
          "metadata": {}
        }
      ],
      "source": [
        "options = {\n",
        "    'node_color': 'black',\n",
        "    'node_size': 100,\n",
        "    'width': 3,\n",
        "}\n",
        "subax1 = plt.subplot(221)\n",
        "nx.draw_random(G, **options)\n",
        "subax2 = plt.subplot(222)\n",
        "nx.draw_circular(G, **options)\n",
        "subax3 = plt.subplot(223)\n",
        "nx.draw_spectral(G, **options)\n",
        "subax4 = plt.subplot(224)\n",
        "nx.draw_shell(G, nlist=[range(5,10), range(5)], **options)"
      ]
    },
    {
      "cell_type": "markdown",
      "id": "41b713c4",
      "metadata": {
        "id": "41b713c4"
      },
      "source": [
        "You can find additional options via `draw_networkx()` and\n",
        "layouts via `layout`.\n",
        "You can use multiple shells with `draw_shell()`."
      ]
    },
    {
      "cell_type": "code",
      "execution_count": 40,
      "id": "5d2c9f09",
      "metadata": {
        "colab": {
          "base_uri": "https://localhost:8080/",
          "height": 516
        },
        "id": "5d2c9f09",
        "outputId": "ad5012a8-61d0-4bfd-93c5-24e1ebfa0a08"
      },
      "outputs": [
        {
          "output_type": "display_data",
          "data": {
            "text/plain": [
              "<Figure size 640x480 with 1 Axes>"
            ],
            "image/png": "[encoded data removed]"
          },
          "metadata": {}
        }
      ],
      "source": [
        "G = nx.dodecahedral_graph()\n",
        "shells = [[2, 3, 4, 5, 6], [8, 1, 0, 19, 18, 17, 16, 15, 14, 7], [9, 10, 11, 12, 13]]\n",
        "nx.draw_shell(G, nlist=shells, **options)"
      ]
    },
    {
      "cell_type": "markdown",
      "id": "69275433",
      "metadata": {
        "id": "69275433"
      },
      "source": [
        "To save drawings to a file, use, for example"
      ]
    },
    {
      "cell_type": "code",
      "execution_count": 41,
      "id": "199da666",
      "metadata": {
        "colab": {
          "base_uri": "https://localhost:8080/",
          "height": 516
        },
        "id": "199da666",
        "outputId": "0063a6cb-0c6a-4242-c4d6-e3018f3cc567"
      },
      "outputs": [
        {
          "output_type": "display_data",
          "data": {
            "text/plain": [
              "<Figure size 640x480 with 1 Axes>"
            ],
            "image/png": "[encoded data removed]"
          },
          "metadata": {}
        }
      ],
      "source": [
        "nx.draw(G)\n",
        "plt.savefig(\"path.png\")"
      ]
    },
    {
      "cell_type": "markdown",
      "id": "251b67ca",
      "metadata": {
        "id": "251b67ca"
      },
      "source": [
        "writes to the file `path.png` in the local directory. If Graphviz and\n",
        "PyGraphviz or pydot, are available on your system, you can also use\n",
        "`nx_agraph.graphviz_layout(G)` or `nx_pydot.graphviz_layout(G)` to get the\n",
        "node positions, or write the graph in dot format for further processing."
      ]
    },
    {
      "cell_type": "markdown",
      "id": "3c74a212",
      "metadata": {
        "id": "3c74a212"
      },
      "source": [
        "See Drawing for additional details."
      ]
    },
    {
      "cell_type": "code",
      "source": [],
      "metadata": {
        "id": "D2sEJJgSk9qo"
      },
      "id": "D2sEJJgSk9qo",
      "execution_count": null,
      "outputs": []
    }
  ],
  "metadata": {
    "kernelspec": {
      "display_name": "Python 3 (ipykernel)",
      "language": "python",
      "name": "python3"
    },
    "language_info": {
      "codemirror_mode": {
        "name": "ipython",
        "version": 3
      },
      "file_extension": ".py",
      "mimetype": "text/x-python",
      "name": "python",
      "nbconvert_exporter": "python",
      "pygments_lexer": "ipython3",
      "version": "3.10.0"
    },
    "colab": {
      "provenance": [],
      "include_colab_link": true
    }
  },
  "nbformat": 4,
  "nbformat_minor": 5
}